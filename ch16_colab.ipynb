{
  "cells": [
    {
      "cell_type": "markdown",
      "metadata": {
        "id": "view-in-github",
        "colab_type": "text"
      },
      "source": [
        "<a href=\"https://colab.research.google.com/github/cheyoung211/Python/blob/main/ch16_colab.ipynb\" target=\"_parent\"><img src=\"https://colab.research.google.com/assets/colab-badge.svg\" alt=\"Open In Colab\"/></a>"
      ]
    },
    {
      "cell_type": "markdown",
      "metadata": {
        "id": "vhpNJiSUHpsw"
      },
      "source": [
        "# 16장 이미지 인식의 꽃, 컨볼루션 신경망(CNN)"
      ]
    },
    {
      "cell_type": "markdown",
      "metadata": {
        "id": "gQkcG_c9Hpsz"
      },
      "source": [
        "## 1. 이미지를 인식하는 원리"
      ]
    },
    {
      "cell_type": "code",
      "execution_count": null,
      "metadata": {
        "id": "VfsapogMHps0",
        "outputId": "86006b82-db01-4039-c310-63f973615881",
        "colab": {
          "base_uri": "https://localhost:8080/"
        }
      },
      "outputs": [
        {
          "output_type": "stream",
          "name": "stdout",
          "text": [
            "Downloading data from https://storage.googleapis.com/tensorflow/tf-keras-datasets/mnist.npz\n",
            "11490434/11490434 [==============================] - 0s 0us/step\n",
            "학습셋 이미지 수 : 60000 개\n",
            "테스트셋 이미지 수 : 10000 개\n"
          ]
        }
      ],
      "source": [
        "from tensorflow.keras.datasets import mnist\n",
        "from tensorflow.keras.utils import to_categorical\n",
        "\n",
        "import matplotlib.pyplot as plt\n",
        "import sys\n",
        "\n",
        "# MNIST 데이터셋을 불러와 학습셋과 테스트셋으로 저장합니다.\n",
        "(X_train, y_train), (X_test, y_test) = mnist.load_data()\n",
        "\n",
        "# 학습셋과 테스트셋이 각각 몇 개의 이미지로 되어 있는지 확인합니다.\n",
        "print(\"학습셋 이미지 수 : %d 개\" % (X_train.shape[0]))\n",
        "print(\"테스트셋 이미지 수 : %d 개\" % (X_test.shape[0]))"
      ]
    },
    {
      "cell_type": "code",
      "execution_count": null,
      "metadata": {
        "id": "8S-h0mBBHps2",
        "outputId": "a6d5c548-e4a2-4706-a47e-c39afc0847a6",
        "colab": {
          "base_uri": "https://localhost:8080/",
          "height": 430
        }
      },
      "outputs": [
        {
          "output_type": "display_data",
          "data": {
            "text/plain": [
              "<Figure size 640x480 with 1 Axes>"
            ],
            "image/png": "[encoded data removed]"
          },
          "metadata": {}
        }
      ],
      "source": [
        "# 첫 번째 이미지를 확인해 봅시다.\n",
        "plt.imshow(X_train[0], cmap='Greys')\n",
        "plt.show()"
      ]
    },
    {
      "cell_type": "code",
      "execution_count": null,
      "metadata": {
        "id": "U2p8H9OSHps2",
        "outputId": "2a2ba8a3-28ce-469d-c857-c71e2b4a5dc3",
        "colab": {
          "base_uri": "https://localhost:8080/"
        }
      },
      "outputs": [
        {
          "output_type": "stream",
          "name": "stdout",
          "text": [
            "0  0  0  0  0  0  0  0  0  0  0  0  0  0  0  0  0  0  0  0  0  0  0  0  0  0  0  0  \n",
            "0  0  0  0  0  0  0  0  0  0  0  0  0  0  0  0  0  0  0  0  0  0  0  0  0  0  0  0  \n",
            "0  0  0  0  0  0  0  0  0  0  0  0  0  0  0  0  0  0  0  0  0  0  0  0  0  0  0  0  \n",
            "0  0  0  0  0  0  0  0  0  0  0  0  0  0  0  0  0  0  0  0  0  0  0  0  0  0  0  0  \n",
            "0  0  0  0  0  0  0  0  0  0  0  0  0  0  0  0  0  0  0  0  0  0  0  0  0  0  0  0  \n",
            "0  0  0  0  0  0  0  0  0  0  0  0  3  18 18 18 12613617526 1662552471270  0  0  0  \n",
            "0  0  0  0  0  0  0  0  30 36 94 15417025325325325325322517225324219564 0  0  0  0  \n",
            "0  0  0  0  0  0  0  49 23825325325325325325325325325193 82 82 56 39 0  0  0  0  0  \n",
            "0  0  0  0  0  0  0  18 2192532532532532531981822472410  0  0  0  0  0  0  0  0  0  \n",
            "0  0  0  0  0  0  0  0  80 15610725325320511 0  43 1540  0  0  0  0  0  0  0  0  0  \n",
            "0  0  0  0  0  0  0  0  0  14 1  15425390 0  0  0  0  0  0  0  0  0  0  0  0  0  0  \n",
            "0  0  0  0  0  0  0  0  0  0  0  1392531902  0  0  0  0  0  0  0  0  0  0  0  0  0  \n",
            "0  0  0  0  0  0  0  0  0  0  0  11 19025370 0  0  0  0  0  0  0  0  0  0  0  0  0  \n",
            "0  0  0  0  0  0  0  0  0  0  0  0  35 2412251601081  0  0  0  0  0  0  0  0  0  0  \n",
            "0  0  0  0  0  0  0  0  0  0  0  0  0  81 24025325311925 0  0  0  0  0  0  0  0  0  \n",
            "0  0  0  0  0  0  0  0  0  0  0  0  0  0  45 18625325315027 0  0  0  0  0  0  0  0  \n",
            "0  0  0  0  0  0  0  0  0  0  0  0  0  0  0  16 93 2522531870  0  0  0  0  0  0  0  \n",
            "0  0  0  0  0  0  0  0  0  0  0  0  0  0  0  0  0  24925324964 0  0  0  0  0  0  0  \n",
            "0  0  0  0  0  0  0  0  0  0  0  0  0  0  46 1301832532532072  0  0  0  0  0  0  0  \n",
            "0  0  0  0  0  0  0  0  0  0  0  0  39 1482292532532532501820  0  0  0  0  0  0  0  \n",
            "0  0  0  0  0  0  0  0  0  0  24 11422125325325325320178 0  0  0  0  0  0  0  0  0  \n",
            "0  0  0  0  0  0  0  0  23 66 21325325325325319881 2  0  0  0  0  0  0  0  0  0  0  \n",
            "0  0  0  0  0  0  18 17121925325325325319580 9  0  0  0  0  0  0  0  0  0  0  0  0  \n",
            "0  0  0  0  55 17222625325325325324413311 0  0  0  0  0  0  0  0  0  0  0  0  0  0  \n",
            "0  0  0  0  13625325325321213513216 0  0  0  0  0  0  0  0  0  0  0  0  0  0  0  0  \n",
            "0  0  0  0  0  0  0  0  0  0  0  0  0  0  0  0  0  0  0  0  0  0  0  0  0  0  0  0  \n",
            "0  0  0  0  0  0  0  0  0  0  0  0  0  0  0  0  0  0  0  0  0  0  0  0  0  0  0  0  \n",
            "0  0  0  0  0  0  0  0  0  0  0  0  0  0  0  0  0  0  0  0  0  0  0  0  0  0  0  0  \n"
          ]
        }
      ],
      "source": [
        "# 이미지가 인식되는 원리를 알아봅시다.\n",
        "for x in X_train[0]:\n",
        "    for i in x:\n",
        "        sys.stdout.write(\"%-3s\" % i)\n",
        "    sys.stdout.write('\\n')"
      ]
    },
    {
      "cell_type": "code",
      "execution_count": null,
      "metadata": {
        "id": "bfMgdLaxHps3"
      },
      "outputs": [],
      "source": [
        "# 차원 변환 과정을 실습해 봅니다.\n",
        "X_train = X_train.reshape(X_train.shape[0], 784)\n",
        "X_train = X_train.astype('float64')\n",
        "X_train = X_train / 255\n",
        "\n",
        "X_test = X_test.reshape(X_test.shape[0], 784).astype('float64') / 255"
      ]
    },
    {
      "cell_type": "code",
      "source": [
        "# 클래스 값을 확인해 봅니다.\n",
        "print(\"class : %d \" % (y_train[0]))\n",
        "\n",
        "# 바이너리화 과정을 실습해 봅니다.\n",
        "#to_categorical : 정수형(integer) 클래스 레이블(label)을 원-핫 인코딩(one-hot encoding) 벡터로 변환하는 함수\n",
        "y_train = to_categorical(y_train, 10)\n",
        "y_test = to_categorical(y_test, 10)\n",
        "\n",
        "print(y_train[0])"
      ],
      "metadata": {
        "id": "LKF5eJvxOF6J",
        "outputId": "3efdb5ef-2bb4-4fcc-f535-5794fc2e3ec3",
        "colab": {
          "base_uri": "https://localhost:8080/"
        }
      },
      "execution_count": null,
      "outputs": [
        {
          "output_type": "stream",
          "name": "stdout",
          "text": [
            "class : 5 \n",
            "[0. 0. 0. 0. 0. 1. 0. 0. 0. 0.]\n"
          ]
        }
      ]
    },
    {
      "cell_type": "markdown",
      "metadata": {
        "id": "czn3_m_KHps4"
      },
      "source": [
        "## 2. 딥러닝 기본 프레임 만들기"
      ]
    },
    {
      "cell_type": "code",
      "execution_count": null,
      "metadata": {
        "id": "7L9ig9toHps5"
      },
      "outputs": [],
      "source": [
        "from tensorflow.keras.models import Sequential\n",
        "from tensorflow.keras.layers import Dense\n",
        "from tensorflow.keras.callbacks import ModelCheckpoint,EarlyStopping\n",
        "from tensorflow.keras.datasets import mnist\n",
        "from tensorflow.keras.utils import to_categorical\n",
        "\n",
        "import matplotlib.pyplot as plt\n",
        "import numpy as np\n",
        "import os"
      ]
    },
    {
      "cell_type": "code",
      "source": [
        "# MNIST 데이터를 불러옵니다.\n",
        "(X_train, y_train), (X_test, y_test) = mnist.load_data()\n",
        "\n",
        "# 차원 변환 후, 테스트셋과 학습셋으로 나누어 줍니다.\n",
        "X_train = X_train.reshape(X_train.shape[0], 784).astype('float32') / 255\n",
        "X_test = X_test.reshape(X_test.shape[0], 784).astype('float32') / 255\n",
        "\n",
        "y_train = to_categorical(y_train, 10)\n",
        "y_test = to_categorical(y_test, 10)"
      ],
      "metadata": {
        "id": "jhslnTzuRMZs"
      },
      "execution_count": null,
      "outputs": []
    },
    {
      "cell_type": "code",
      "source": [
        "# 모델 구조를 설정합니다.\n",
        "model = Sequential()\n",
        "model.add(Dense(512, input_dim=784, activation='relu'))\n",
        "model.add(Dense(10, activation='softmax'))\n",
        "model.summary()"
      ],
      "metadata": {
        "id": "6Iy2vESxROYl",
        "outputId": "64b55e2a-cbdc-43da-e0bc-8e47bcf08312",
        "colab": {
          "base_uri": "https://localhost:8080/"
        }
      },
      "execution_count": null,
      "outputs": [
        {
          "output_type": "stream",
          "name": "stdout",
          "text": [
            "Model: \"sequential\"\n",
            "_________________________________________________________________\n",
            " Layer (type)                Output Shape              Param #   \n",
            "=================================================================\n",
            " dense (Dense)               (None, 512)               401920    \n",
            "                                                                 \n",
            " dense_1 (Dense)             (None, 10)                5130      \n",
            "                                                                 \n",
            "=================================================================\n",
            "Total params: 407050 (1.55 MB)\n",
            "Trainable params: 407050 (1.55 MB)\n",
            "Non-trainable params: 0 (0.00 Byte)\n",
            "_________________________________________________________________\n"
          ]
        }
      ]
    },
    {
      "cell_type": "code",
      "execution_count": null,
      "metadata": {
        "id": "dem7CMEoHps5",
        "outputId": "e619f271-7424-45b8-b406-58f29012af65",
        "colab": {
          "base_uri": "https://localhost:8080/"
        }
      },
      "outputs": [
        {
          "output_type": "stream",
          "name": "stdout",
          "text": [
            "\n",
            "Epoch 1: val_loss improved from inf to 0.09225, saving model to ./MNIST_MLP.hdf5\n",
            "\n",
            "Epoch 2: val_loss did not improve from 0.09225\n",
            "\n",
            "Epoch 3: val_loss did not improve from 0.09225\n",
            "\n",
            "Epoch 4: val_loss did not improve from 0.09225\n",
            "\n",
            "Epoch 5: val_loss did not improve from 0.09225\n",
            "\n",
            "Epoch 6: val_loss did not improve from 0.09225\n",
            "\n",
            "Epoch 7: val_loss did not improve from 0.09225\n",
            "\n",
            "Epoch 8: val_loss did not improve from 0.09225\n",
            "\n",
            "Epoch 9: val_loss did not improve from 0.09225\n",
            "\n",
            "Epoch 10: val_loss did not improve from 0.09225\n",
            "\n",
            "Epoch 11: val_loss did not improve from 0.09225\n",
            "313/313 [==============================] - 1s 4ms/step - loss: 0.0799 - accuracy: 0.9814\n",
            "\n",
            " Test Accuracy: 0.9814\n"
          ]
        }
      ],
      "source": [
        "# 모델 실행 환경을 설정합니다.\n",
        "# 훈련 데이터가 원-핫 벡터인 경우 : categorical_crossentropy\n",
        "# 훈련 데이터가 정수인 경우 : sparse_categorical_crossentropy\n",
        "model.compile(loss='categorical_crossentropy', optimizer='adam', metrics=['accuracy'])\n",
        "\n",
        "# 모델 최적화를 위한 설정 구간입니다.\n",
        "modelpath=\"./MNIST_MLP.hdf5\"\n",
        "checkpointer = ModelCheckpoint(filepath=modelpath, monitor='val_loss', verbose=1, save_best_only=True)\n",
        "early_stopping_callback = EarlyStopping(monitor='val_loss', patience=10)\n",
        "\n",
        "# 모델을 실행합니다.\n",
        "history = model.fit(X_train, y_train, validation_split=0.25, epochs=30, batch_size=200, verbose=0, callbacks=[early_stopping_callback,checkpointer])\n",
        "\n",
        "# 테스트 정확도를 출력합니다.\n",
        "print(\"\\n Test Accuracy: %.4f\" % (model.evaluate(X_test, y_test)[1]))"
      ]
    },
    {
      "cell_type": "code",
      "execution_count": null,
      "metadata": {
        "id": "QFTv0dfNHps6",
        "outputId": "37a6e904-6315-4c8c-a66b-324ae76ab137",
        "colab": {
          "base_uri": "https://localhost:8080/",
          "height": 450
        }
      },
      "outputs": [
        {
          "output_type": "display_data",
          "data": {
            "text/plain": [
              "<Figure size 640x480 with 1 Axes>"
            ],
            "image/png": "[encoded data removed]"
          },
          "metadata": {}
        }
      ],
      "source": [
        "# 검증셋과 학습셋의 오차를 저장합니다.\n",
        "y_vloss = history.history['val_loss']\n",
        "y_loss = history.history['loss']\n",
        "\n",
        "# 그래프로 표현해 봅니다.\n",
        "x_len = np.arange(len(y_loss))\n",
        "plt.plot(x_len, y_vloss, marker='.', c=\"red\", label='Testset_loss')\n",
        "plt.plot(x_len, y_loss, marker='.', c=\"blue\", label='Trainset_loss')\n",
        "\n",
        "# 그래프에 그리드를 주고 레이블을 표시해 보겠습니다.\n",
        "plt.legend(loc='upper right')\n",
        "plt.grid()\n",
        "plt.xlabel('epoch')\n",
        "plt.ylabel('loss')\n",
        "plt.show()"
      ]
    },
    {
      "cell_type": "markdown",
      "metadata": {
        "id": "SqupvrChHps6"
      },
      "source": [
        "## 5. 컨볼루션 신경망 실행하기"
      ]
    },
    {
      "cell_type": "code",
      "source": [
        "from tensorflow.keras.models import Sequential\n",
        "from tensorflow.keras.layers import Dense, Dropout, Flatten, Conv2D, MaxPooling2D\n",
        "from tensorflow.keras.callbacks import ModelCheckpoint,EarlyStopping\n",
        "from tensorflow.keras.datasets import mnist\n",
        "from tensorflow.keras.utils import to_categorical\n",
        "\n",
        "import matplotlib.pyplot as plt\n",
        "import numpy as np"
      ],
      "metadata": {
        "id": "KV9ufJ2rWSm7"
      },
      "execution_count": null,
      "outputs": []
    },
    {
      "cell_type": "code",
      "source": [
        "# 데이터를 불러옵니다.\n",
        "(X_train, y_train), (X_test, y_test) = mnist.load_data()\n",
        "X_train = X_train.reshape(X_train.shape[0], 28, 28, 1).astype('float32') / 255\n",
        "X_test = X_test.reshape(X_test.shape[0], 28, 28, 1).astype('float32') / 255\n",
        "y_train = to_categorical(y_train)\n",
        "y_test = to_categorical(y_test)"
      ],
      "metadata": {
        "id": "787skMIvWVPd"
      },
      "execution_count": null,
      "outputs": []
    },
    {
      "cell_type": "code",
      "execution_count": null,
      "metadata": {
        "id": "aJa-27qAHps7"
      },
      "outputs": [],
      "source": [
        "# 컨볼루션 신경망의 설정\n",
        "model = Sequential()\n",
        "model.add(Conv2D(32, kernel_size=(3, 3), input_shape=(28, 28, 1), activation='relu'))\n",
        "model.add(Conv2D(64, (3, 3), activation='relu'))\n",
        "model.add(MaxPooling2D(pool_size=(2,2)))\n",
        "model.add(Dropout(0.25))\n",
        "model.add(Flatten())\n",
        "model.add(Dense(128,  activation='relu'))\n",
        "model.add(Dropout(0.5))\n",
        "model.add(Dense(10, activation='softmax'))\n",
        "\n",
        "# 모델의 실행 옵션을 설정합니다.\n",
        "model.compile(loss='categorical_crossentropy',\n",
        "              optimizer='adam',\n",
        "              metrics=['accuracy'])\n",
        "\n",
        "# 모델 최적화를 위한 설정 구간입니다.\n",
        "modelpath=\"./MNIST_CNN.hdf5\"\n",
        "checkpointer = ModelCheckpoint(filepath=modelpath, monitor='val_loss', verbose=1, save_best_only=True)\n",
        "early_stopping_callback = EarlyStopping(monitor='val_loss', patience=10)"
      ]
    },
    {
      "cell_type": "code",
      "source": [
        "# 모델을 실행합니다.\n",
        "history = model.fit(X_train, y_train, validation_split=0.25, epochs=30, batch_size=200, verbose=0, callbacks=[early_stopping_callback,checkpointer])\n",
        "\n",
        "# 테스트 정확도를 출력합니다.\n",
        "print(\"\\n Test Accuracy: %.4f\" % (model.evaluate(X_test, y_test)[1]))"
      ],
      "metadata": {
        "id": "zvpwo61oWbNS",
        "outputId": "6ebef517-cbdd-4977-a8be-6dcbb63e952b",
        "colab": {
          "base_uri": "https://localhost:8080/"
        }
      },
      "execution_count": null,
      "outputs": [
        {
          "output_type": "stream",
          "name": "stdout",
          "text": [
            "\n",
            "Epoch 1: val_loss improved from inf to 0.08115, saving model to ./MNIST_CNN.hdf5\n",
            "\n",
            "Epoch 2: val_loss improved from 0.08115 to 0.05432, saving model to ./MNIST_CNN.hdf5\n",
            "\n",
            "Epoch 3: val_loss improved from 0.05432 to 0.04915, saving model to ./MNIST_CNN.hdf5\n",
            "\n",
            "Epoch 4: val_loss improved from 0.04915 to 0.04535, saving model to ./MNIST_CNN.hdf5\n",
            "\n",
            "Epoch 5: val_loss improved from 0.04535 to 0.04337, saving model to ./MNIST_CNN.hdf5\n",
            "\n",
            "Epoch 6: val_loss improved from 0.04337 to 0.04118, saving model to ./MNIST_CNN.hdf5\n",
            "\n",
            "Epoch 7: val_loss did not improve from 0.04118\n",
            "\n",
            "Epoch 8: val_loss improved from 0.04118 to 0.04007, saving model to ./MNIST_CNN.hdf5\n",
            "\n",
            "Epoch 9: val_loss did not improve from 0.04007\n",
            "\n",
            "Epoch 10: val_loss did not improve from 0.04007\n",
            "\n",
            "Epoch 11: val_loss did not improve from 0.04007\n",
            "\n",
            "Epoch 12: val_loss improved from 0.04007 to 0.03908, saving model to ./MNIST_CNN.hdf5\n",
            "\n",
            "Epoch 13: val_loss improved from 0.03908 to 0.03840, saving model to ./MNIST_CNN.hdf5\n",
            "\n",
            "Epoch 14: val_loss did not improve from 0.03840\n",
            "\n",
            "Epoch 15: val_loss did not improve from 0.03840\n",
            "\n",
            "Epoch 16: val_loss did not improve from 0.03840\n",
            "\n",
            "Epoch 17: val_loss did not improve from 0.03840\n",
            "\n",
            "Epoch 18: val_loss did not improve from 0.03840\n",
            "\n",
            "Epoch 19: val_loss did not improve from 0.03840\n",
            "\n",
            "Epoch 20: val_loss did not improve from 0.03840\n",
            "\n",
            "Epoch 21: val_loss did not improve from 0.03840\n",
            "\n",
            "Epoch 22: val_loss did not improve from 0.03840\n",
            "\n",
            "Epoch 23: val_loss did not improve from 0.03840\n",
            "313/313 [==============================] - 1s 3ms/step - loss: 0.0348 - accuracy: 0.9928\n",
            "\n",
            " Test Accuracy: 0.9928\n"
          ]
        }
      ]
    },
    {
      "cell_type": "code",
      "execution_count": null,
      "metadata": {
        "id": "pCGvCLddHps7",
        "outputId": "8dfca46b-1765-4418-c1db-b7abfca8c5bd",
        "colab": {
          "base_uri": "https://localhost:8080/",
          "height": 449
        }
      },
      "outputs": [
        {
          "output_type": "display_data",
          "data": {
            "text/plain": [
              "<Figure size 640x480 with 1 Axes>"
            ],
            "image/png": "[encoded data removed]"
          },
          "metadata": {}
        }
      ],
      "source": [
        "# 검증셋과 학습셋의 오차를 저장합니다.\n",
        "y_vloss = history.history['val_loss']\n",
        "y_loss = history.history['loss']\n",
        "\n",
        "# 그래프로 표현해 봅니다.\n",
        "x_len = np.arange(len(y_loss))\n",
        "plt.plot(x_len, y_vloss, marker='.', c=\"red\", label='Testset_loss')\n",
        "plt.plot(x_len, y_loss, marker='.', c=\"blue\", label='Trainset_loss')\n",
        "\n",
        "# 그래프에 그리드를 주고 레이블을 표시하겠습니다.\n",
        "plt.legend(loc='upper right')\n",
        "plt.grid()\n",
        "plt.xlabel('epoch')\n",
        "plt.ylabel('loss')\n",
        "plt.show()"
      ]
    },
    {
      "cell_type": "code",
      "execution_count": null,
      "metadata": {
        "id": "5Z-OGf7sHps8"
      },
      "outputs": [],
      "source": []
    }
  ],
  "metadata": {
    "colab": {
      "provenance": [],
      "gpuType": "T4",
      "include_colab_link": true
    },
    "kernelspec": {
      "display_name": "Python 3",
      "name": "python3"
    },
    "language_info": {
      "codemirror_mode": {
        "name": "ipython",
        "version": 3
      },
      "file_extension": ".py",
      "mimetype": "text/x-python",
      "name": "python",
      "nbconvert_exporter": "python",
      "pygments_lexer": "ipython3",
      "version": "3.9.7"
    },
    "accelerator": "GPU"
  },
  "nbformat": 4,
  "nbformat_minor": 0
}